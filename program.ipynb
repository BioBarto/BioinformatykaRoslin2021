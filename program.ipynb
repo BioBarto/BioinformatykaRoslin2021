path = ""
data = read (path, "r:)
data = readlines(data)
